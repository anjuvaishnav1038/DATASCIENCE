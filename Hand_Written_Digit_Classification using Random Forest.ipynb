{
  "nbformat": 4,
  "nbformat_minor": 0,
  "metadata": {
    "colab": {
      "provenance": [],
      "include_colab_link": true
    },
    "kernelspec": {
      "name": "python3",
      "display_name": "Python 3"
    },
    "language_info": {
      "name": "python"
    }
  },
  "cells": [
    {
      "cell_type": "markdown",
      "metadata": {
        "id": "view-in-github",
        "colab_type": "text"
      },
      "source": [
        "<a href=\"https://colab.research.google.com/github/Muskan2320/Classification/blob/main/Hand_Written_Digit_Classification%20using%20Random%20Forest.ipynb\" target=\"_parent\"><img src=\"https://colab.research.google.com/assets/colab-badge.svg\" alt=\"Open In Colab\"/></a>"
      ]
    },
    {
      "cell_type": "markdown",
      "source": [
        "# **Hand Written Digit Classification**"
      ],
      "metadata": {
        "id": "dqZ-nhxiganh"
      }
    },
    {
      "cell_type": "markdown",
      "source": [
        "-------------"
      ],
      "metadata": {
        "id": "gScHkw6jjrLo"
      }
    },
    {
      "cell_type": "markdown",
      "source": [
        "## **Objective**"
      ],
      "metadata": {
        "id": "Xns_rCdhh-vZ"
      }
    },
    {
      "cell_type": "markdown",
      "source": [
        "This notebook works on MNIST dataset that contain sevral images of digits wirtten in many different ways. The task is to classify the image and predict the correct digit."
      ],
      "metadata": {
        "id": "9sPvnFM1iI9l"
      }
    },
    {
      "cell_type": "markdown",
      "source": [
        "## **Data Source**"
      ],
      "metadata": {
        "id": "-Vbnt9CciKJP"
      }
    },
    {
      "cell_type": "markdown",
      "source": [
        "The data is imported using sklearn library."
      ],
      "metadata": {
        "id": "sGcv5WqQiNyl"
      }
    },
    {
      "cell_type": "markdown",
      "source": [
        "## **Import Library**"
      ],
      "metadata": {
        "id": "r7GrZzX0iTlV"
      }
    },
    {
      "cell_type": "code",
      "source": [
        "import pandas as pd\n",
        "import numpy as np\n",
        "import matplotlib.pyplot as plt"
      ],
      "metadata": {
        "id": "UkK6NH9DiW-X"
      },
      "execution_count": 18,
      "outputs": []
    },
    {
      "cell_type": "markdown",
      "source": [
        "## **Import Data**"
      ],
      "metadata": {
        "id": "9lHPQj1XiOUc"
      }
    },
    {
      "cell_type": "code",
      "source": [
        "from sklearn.datasets import load_digits"
      ],
      "metadata": {
        "id": "zcU1fdnGho6M"
      },
      "execution_count": 19,
      "outputs": []
    },
    {
      "cell_type": "markdown",
      "source": [
        "## **Describe Data**"
      ],
      "metadata": {
        "id": "7PUnimBoiX-x"
      }
    },
    {
      "cell_type": "code",
      "source": [
        "data = load_digits()"
      ],
      "metadata": {
        "id": "kG15arusiZ8Z"
      },
      "execution_count": 20,
      "outputs": []
    },
    {
      "cell_type": "markdown",
      "source": [
        "## **Data Visualization**"
      ],
      "metadata": {
        "id": "oBGX4Ekniriz"
      }
    },
    {
      "cell_type": "code",
      "source": [
        "# Subplot creates a figure and a grid of subplots. It returns figure and axes\n",
        "_, axes = plt.subplots(nrows = 1, ncols = 4, figsize = (10,3))\n",
        "\n",
        "for ax, image, label in zip(axes, data.images, data.target):\n",
        "  ax.set_axis_off()                                                # used to turn the x- and y-axis off that is the axis lines, ticks, ticklabels, grid and axis labels are not visible\n",
        "  # imshow() displays the image. cmap refers to colormap(here you specify the color of image)\n",
        "  # Interpolation a method of constructing new data points based on the range of a discrete set of known data points\n",
        "  ax.imshow(image, cmap=plt.cm.gray_r, interpolation='nearest')\n",
        "  ax.set_title(\"Training: %i\" % label)"
      ],
      "metadata": {
        "id": "lW-OIRK0iuzO",
        "colab": {
          "base_uri": "https://localhost:8080/",
          "height": 227
        },
        "outputId": "6ab8334e-5726-4da6-bfed-af83725f96c3"
      },
      "execution_count": 21,
      "outputs": [
        {
          "output_type": "display_data",
          "data": {
            "text/plain": [
              "<Figure size 1000x300 with 4 Axes>"
            ],
            "image/png": "[encoded data removed]"
          },
          "metadata": {}
        }
      ]
    },
    {
      "cell_type": "markdown",
      "source": [
        "## **Data Preprocessing**"
      ],
      "metadata": {
        "id": "UqfyPOCYiiww"
      }
    },
    {
      "cell_type": "markdown",
      "source": [
        "**Flatten image**: Flattening of image is used to convert a multi-dimensional array into a 1-D array"
      ],
      "metadata": {
        "id": "tLLNKeYBpmRe"
      }
    },
    {
      "cell_type": "code",
      "source": [
        "data.images.shape"
      ],
      "metadata": {
        "id": "3cyr3fbGin0A",
        "colab": {
          "base_uri": "https://localhost:8080/"
        },
        "outputId": "2388a820-0865-44dd-a4b1-af4238de03c7"
      },
      "execution_count": 22,
      "outputs": [
        {
          "output_type": "execute_result",
          "data": {
            "text/plain": [
              "(1797, 8, 8)"
            ]
          },
          "metadata": {},
          "execution_count": 22
        }
      ]
    },
    {
      "cell_type": "code",
      "source": [
        "print(data.images[0].shape)\n",
        "data.images[0]"
      ],
      "metadata": {
        "colab": {
          "base_uri": "https://localhost:8080/"
        },
        "id": "ipA-RHjNnxb_",
        "outputId": "ffe67127-69f7-4b2a-b9b9-ca180b7336df"
      },
      "execution_count": 28,
      "outputs": [
        {
          "output_type": "stream",
          "name": "stdout",
          "text": [
            "(8, 8)\n"
          ]
        },
        {
          "output_type": "execute_result",
          "data": {
            "text/plain": [
              "array([[ 0.,  0.,  5., 13.,  9.,  1.,  0.,  0.],\n",
              "       [ 0.,  0., 13., 15., 10., 15.,  5.,  0.],\n",
              "       [ 0.,  3., 15.,  2.,  0., 11.,  8.,  0.],\n",
              "       [ 0.,  4., 12.,  0.,  0.,  8.,  8.,  0.],\n",
              "       [ 0.,  5.,  8.,  0.,  0.,  9.,  8.,  0.],\n",
              "       [ 0.,  4., 11.,  0.,  1., 12.,  7.,  0.],\n",
              "       [ 0.,  2., 14.,  5., 10., 12.,  0.,  0.],\n",
              "       [ 0.,  0.,  6., 13., 10.,  0.,  0.,  0.]])"
            ]
          },
          "metadata": {},
          "execution_count": 28
        }
      ]
    },
    {
      "cell_type": "code",
      "source": [
        "n_samples = len(data.images)\n",
        "# Original shape of data.images is (1797, 8, 8) when reshaping parameters are (1797, -1) this -1 implies that the dimension are to be calculated by themselves.\n",
        "# The product of row, coluumn and length (i.e. 1797*8*8) should be maintained it possible when -1 is replaced with 64.\n",
        "# So, earlier image was a 2D  array of (8,8) now it is a 1D array of lenth 64.\n",
        "image = data.images.reshape((n_samples, -1))\n",
        "print(image[0].shape)\n",
        "print(image.shape)"
      ],
      "metadata": {
        "colab": {
          "base_uri": "https://localhost:8080/"
        },
        "id": "6AO4bmaloEnb",
        "outputId": "e1cb1eac-3d7b-4b88-88d9-2ff0305237ad"
      },
      "execution_count": 31,
      "outputs": [
        {
          "output_type": "stream",
          "name": "stdout",
          "text": [
            "(64,)\n",
            "(1797, 64)\n"
          ]
        }
      ]
    },
    {
      "cell_type": "markdown",
      "source": [
        "**Scaling Image data**"
      ],
      "metadata": {
        "id": "HAKV8t1AsKcw"
      }
    },
    {
      "cell_type": "code",
      "source": [
        "print(\"Min:\",image.min())             # Returns minimum value in data\n",
        "print(\"Max:\",image.max())             # Returns maximum value in data"
      ],
      "metadata": {
        "colab": {
          "base_uri": "https://localhost:8080/"
        },
        "id": "zyv54hjssOB5",
        "outputId": "e31e6b79-39fe-49d9-e08d-5290a39e7cc2"
      },
      "execution_count": 32,
      "outputs": [
        {
          "output_type": "stream",
          "name": "stdout",
          "text": [
            "Min: 0.0\n",
            "Max: 16.0\n"
          ]
        }
      ]
    },
    {
      "cell_type": "code",
      "source": [
        "image = image/16                      # Data is scaled in the range [0,1]"
      ],
      "metadata": {
        "id": "Bb_fgOaGscwD"
      },
      "execution_count": 33,
      "outputs": []
    },
    {
      "cell_type": "code",
      "source": [
        "print(\"Min:\",image.min())\n",
        "print(\"Max:\",image.max())"
      ],
      "metadata": {
        "colab": {
          "base_uri": "https://localhost:8080/"
        },
        "id": "RvB4c3fPshvz",
        "outputId": "ad337227-19ab-41de-e2c9-0d7a91341d04"
      },
      "execution_count": 34,
      "outputs": [
        {
          "output_type": "stream",
          "name": "stdout",
          "text": [
            "Min: 0.0\n",
            "Max: 1.0\n"
          ]
        }
      ]
    },
    {
      "cell_type": "markdown",
      "source": [
        "## **Define Target Variable (y) and Feature Variables (X)**"
      ],
      "metadata": {
        "id": "2jXJpdAuiwYW"
      }
    },
    {
      "cell_type": "code",
      "source": [
        "X = image\n",
        "Y = data.target"
      ],
      "metadata": {
        "id": "QBCakTuli57t"
      },
      "execution_count": 38,
      "outputs": []
    },
    {
      "cell_type": "markdown",
      "source": [
        "## **Train Test Split**"
      ],
      "metadata": {
        "id": "90_0q_Pbi658"
      }
    },
    {
      "cell_type": "code",
      "source": [
        "from sklearn.model_selection import train_test_split\n",
        "\n",
        "# Specifying the train size to 0.75 means splitting the data in 75% train data and 25% test data. It can also be done using test_size = 0.25\n",
        "# Specifying the random_state means specifying the seed as row are assigned to train and test set randomly.\n",
        "X_train, X_test, Y_train, Y_test = train_test_split(X, Y, test_size=0.3)\n",
        "X_train.shape, X_test.shape, Y_train.shape, Y_test.shape"
      ],
      "metadata": {
        "id": "u60YYaOFi-Dw",
        "colab": {
          "base_uri": "https://localhost:8080/"
        },
        "outputId": "be651f74-74ad-413f-c55f-0eb4d1cd1fa4"
      },
      "execution_count": 39,
      "outputs": [
        {
          "output_type": "execute_result",
          "data": {
            "text/plain": [
              "((1257, 64), (540, 64), (1257,), (540,))"
            ]
          },
          "metadata": {},
          "execution_count": 39
        }
      ]
    },
    {
      "cell_type": "markdown",
      "source": [
        "## **Modeling**"
      ],
      "metadata": {
        "id": "cIhyseNria7W"
      }
    },
    {
      "cell_type": "markdown",
      "source": [
        "Using random forest classifier for prediction. Random forests or random decision forests is an ensemble learning method for classification, regression. It constructs multiple decision tress and result is the class given by maximum of decision trees."
      ],
      "metadata": {
        "id": "F1W0hp5UuQ5F"
      }
    },
    {
      "cell_type": "code",
      "source": [
        "from sklearn.ensemble import RandomForestClassifier\n",
        "\n",
        "model = RandomForestClassifier()\n",
        "model.fit(X_train, Y_train)"
      ],
      "metadata": {
        "id": "Toq58wpkjCw7",
        "colab": {
          "base_uri": "https://localhost:8080/",
          "height": 74
        },
        "outputId": "b3dc123c-c862-4077-ae6f-3afb0f2642f7"
      },
      "execution_count": 40,
      "outputs": [
        {
          "output_type": "execute_result",
          "data": {
            "text/plain": [
              "RandomForestClassifier()"
            ],
            "text/html": [
              "<style>#sk-container-id-1 {color: black;background-color: white;}#sk-container-id-1 pre{padding: 0;}#sk-container-id-1 div.sk-toggleable {background-color: white;}#sk-container-id-1 label.sk-toggleable__label {cursor: pointer;display: block;width: 100%;margin-bottom: 0;padding: 0.3em;box-sizing: border-box;text-align: center;}#sk-container-id-1 label.sk-toggleable__label-arrow:before {content: \"▸\";float: left;margin-right: 0.25em;color: #696969;}#sk-container-id-1 label.sk-toggleable__label-arrow:hover:before {color: black;}#sk-container-id-1 div.sk-estimator:hover label.sk-toggleable__label-arrow:before {color: black;}#sk-container-id-1 div.sk-toggleable__content {max-height: 0;max-width: 0;overflow: hidden;text-align: left;background-color: #f0f8ff;}#sk-container-id-1 div.sk-toggleable__content pre {margin: 0.2em;color: black;border-radius: 0.25em;background-color: #f0f8ff;}#sk-container-id-1 input.sk-toggleable__control:checked~div.sk-toggleable__content {max-height: 200px;max-width: 100%;overflow: auto;}#sk-container-id-1 input.sk-toggleable__control:checked~label.sk-toggleable__label-arrow:before {content: \"▾\";}#sk-container-id-1 div.sk-estimator input.sk-toggleable__control:checked~label.sk-toggleable__label {background-color: #d4ebff;}#sk-container-id-1 div.sk-label input.sk-toggleable__control:checked~label.sk-toggleable__label {background-color: #d4ebff;}#sk-container-id-1 input.sk-hidden--visually {border: 0;clip: rect(1px 1px 1px 1px);clip: rect(1px, 1px, 1px, 1px);height: 1px;margin: -1px;overflow: hidden;padding: 0;position: absolute;width: 1px;}#sk-container-id-1 div.sk-estimator {font-family: monospace;background-color: #f0f8ff;border: 1px dotted black;border-radius: 0.25em;box-sizing: border-box;margin-bottom: 0.5em;}#sk-container-id-1 div.sk-estimator:hover {background-color: #d4ebff;}#sk-container-id-1 div.sk-parallel-item::after {content: \"\";width: 100%;border-bottom: 1px solid gray;flex-grow: 1;}#sk-container-id-1 div.sk-label:hover label.sk-toggleable__label {background-color: #d4ebff;}#sk-container-id-1 div.sk-serial::before {content: \"\";position: absolute;border-left: 1px solid gray;box-sizing: border-box;top: 0;bottom: 0;left: 50%;z-index: 0;}#sk-container-id-1 div.sk-serial {display: flex;flex-direction: column;align-items: center;background-color: white;padding-right: 0.2em;padding-left: 0.2em;position: relative;}#sk-container-id-1 div.sk-item {position: relative;z-index: 1;}#sk-container-id-1 div.sk-parallel {display: flex;align-items: stretch;justify-content: center;background-color: white;position: relative;}#sk-container-id-1 div.sk-item::before, #sk-container-id-1 div.sk-parallel-item::before {content: \"\";position: absolute;border-left: 1px solid gray;box-sizing: border-box;top: 0;bottom: 0;left: 50%;z-index: -1;}#sk-container-id-1 div.sk-parallel-item {display: flex;flex-direction: column;z-index: 1;position: relative;background-color: white;}#sk-container-id-1 div.sk-parallel-item:first-child::after {align-self: flex-end;width: 50%;}#sk-container-id-1 div.sk-parallel-item:last-child::after {align-self: flex-start;width: 50%;}#sk-container-id-1 div.sk-parallel-item:only-child::after {width: 0;}#sk-container-id-1 div.sk-dashed-wrapped {border: 1px dashed gray;margin: 0 0.4em 0.5em 0.4em;box-sizing: border-box;padding-bottom: 0.4em;background-color: white;}#sk-container-id-1 div.sk-label label {font-family: monospace;font-weight: bold;display: inline-block;line-height: 1.2em;}#sk-container-id-1 div.sk-label-container {text-align: center;}#sk-container-id-1 div.sk-container {/* jupyter's `normalize.less` sets `[hidden] { display: none; }` but bootstrap.min.css set `[hidden] { display: none !important; }` so we also need the `!important` here to be able to override the default hidden behavior on the sphinx rendered scikit-learn.org. See: https://github.com/scikit-learn/scikit-learn/issues/21755 */display: inline-block !important;position: relative;}#sk-container-id-1 div.sk-text-repr-fallback {display: none;}</style><div id=\"sk-container-id-1\" class=\"sk-top-container\"><div class=\"sk-text-repr-fallback\"><pre>RandomForestClassifier()</pre><b>In a Jupyter environment, please rerun this cell to show the HTML representation or trust the notebook. <br />On GitHub, the HTML representation is unable to render, please try loading this page with nbviewer.org.</b></div><div class=\"sk-container\" hidden><div class=\"sk-item\"><div class=\"sk-estimator sk-toggleable\"><input class=\"sk-toggleable__control sk-hidden--visually\" id=\"sk-estimator-id-1\" type=\"checkbox\" checked><label for=\"sk-estimator-id-1\" class=\"sk-toggleable__label sk-toggleable__label-arrow\">RandomForestClassifier</label><div class=\"sk-toggleable__content\"><pre>RandomForestClassifier()</pre></div></div></div></div></div>"
            ]
          },
          "metadata": {},
          "execution_count": 40
        }
      ]
    },
    {
      "cell_type": "markdown",
      "source": [
        "## **Prediction**"
      ],
      "metadata": {
        "id": "8AzwG7oLjiQI"
      }
    },
    {
      "cell_type": "code",
      "source": [
        "y_pred = model.predict(X_test)\n",
        "y_pred"
      ],
      "metadata": {
        "id": "lND3jJj_jhx4",
        "colab": {
          "base_uri": "https://localhost:8080/"
        },
        "outputId": "db7323b6-c58c-444c-cdfe-563e80e7c5c1"
      },
      "execution_count": 41,
      "outputs": [
        {
          "output_type": "execute_result",
          "data": {
            "text/plain": [
              "array([1, 3, 9, 2, 4, 6, 5, 6, 2, 5, 0, 2, 4, 2, 6, 1, 3, 7, 5, 5, 0, 8,\n",
              "       3, 3, 7, 0, 2, 8, 5, 1, 1, 6, 3, 9, 6, 6, 5, 5, 2, 7, 7, 4, 3, 3,\n",
              "       4, 2, 5, 1, 6, 1, 5, 7, 9, 1, 4, 6, 6, 1, 0, 6, 2, 3, 9, 9, 2, 8,\n",
              "       9, 0, 1, 2, 3, 8, 5, 5, 5, 8, 7, 0, 1, 0, 9, 1, 8, 3, 3, 9, 6, 5,\n",
              "       1, 7, 9, 3, 3, 4, 1, 6, 2, 2, 7, 7, 9, 4, 1, 7, 4, 6, 9, 0, 9, 4,\n",
              "       8, 5, 9, 3, 0, 8, 0, 9, 1, 5, 6, 6, 6, 4, 4, 8, 7, 8, 7, 0, 1, 7,\n",
              "       4, 7, 8, 6, 5, 7, 4, 5, 2, 9, 6, 9, 3, 5, 6, 8, 8, 8, 0, 5, 8, 5,\n",
              "       5, 3, 9, 2, 6, 1, 4, 3, 9, 7, 4, 1, 7, 9, 4, 8, 1, 2, 6, 6, 7, 2,\n",
              "       6, 1, 1, 5, 7, 4, 2, 1, 2, 2, 8, 6, 1, 3, 7, 1, 1, 0, 1, 1, 7, 8,\n",
              "       7, 3, 5, 1, 5, 6, 6, 3, 3, 2, 3, 5, 0, 9, 1, 4, 1, 9, 0, 7, 6, 8,\n",
              "       6, 3, 1, 6, 0, 5, 2, 7, 7, 9, 8, 2, 4, 0, 1, 2, 8, 6, 7, 5, 6, 8,\n",
              "       8, 6, 7, 4, 5, 9, 5, 1, 7, 0, 1, 0, 1, 0, 3, 7, 5, 2, 7, 0, 9, 7,\n",
              "       4, 8, 1, 6, 3, 0, 8, 1, 4, 6, 8, 4, 9, 2, 4, 6, 8, 7, 6, 1, 8, 9,\n",
              "       2, 8, 8, 1, 2, 6, 4, 1, 6, 5, 7, 4, 4, 6, 9, 5, 7, 0, 6, 7, 9, 8,\n",
              "       0, 0, 5, 3, 5, 0, 8, 2, 0, 2, 1, 6, 0, 9, 2, 1, 6, 6, 9, 5, 3, 5,\n",
              "       5, 4, 9, 2, 3, 9, 8, 6, 0, 6, 8, 7, 2, 1, 5, 6, 3, 0, 1, 0, 3, 1,\n",
              "       7, 8, 2, 6, 0, 0, 1, 9, 1, 9, 2, 2, 1, 2, 8, 9, 6, 3, 3, 4, 0, 4,\n",
              "       3, 0, 9, 2, 9, 1, 6, 5, 7, 4, 4, 3, 3, 7, 1, 3, 9, 5, 8, 0, 3, 6,\n",
              "       0, 9, 2, 9, 0, 2, 4, 6, 4, 9, 6, 8, 5, 8, 9, 0, 6, 3, 9, 9, 4, 0,\n",
              "       7, 1, 8, 3, 0, 3, 7, 2, 0, 5, 8, 8, 0, 7, 6, 8, 7, 4, 1, 3, 7, 7,\n",
              "       8, 0, 9, 2, 5, 2, 0, 0, 7, 7, 2, 2, 8, 8, 7, 7, 7, 3, 8, 3, 3, 6,\n",
              "       0, 9, 2, 1, 1, 4, 9, 3, 5, 2, 3, 1, 4, 9, 7, 6, 5, 1, 4, 4, 4, 2,\n",
              "       3, 9, 4, 5, 5, 0, 9, 5, 6, 9, 5, 4, 0, 6, 5, 3, 2, 6, 9, 5, 0, 4,\n",
              "       0, 2, 4, 5, 9, 5, 4, 0, 9, 6, 7, 7, 7, 4, 3, 7, 2, 9, 2, 0, 2, 9,\n",
              "       2, 6, 5, 4, 5, 4, 5, 1, 8, 5, 8, 8])"
            ]
          },
          "metadata": {},
          "execution_count": 41
        }
      ]
    },
    {
      "cell_type": "markdown",
      "source": [
        "## **Model Evaluation**"
      ],
      "metadata": {
        "id": "vhAwWfG0jFun"
      }
    },
    {
      "cell_type": "code",
      "source": [
        "from sklearn.metrics import accuracy_score, confusion_matrix, ConfusionMatrixDisplay, classification_report"
      ],
      "metadata": {
        "id": "JLebGzDJjknA"
      },
      "execution_count": 42,
      "outputs": []
    },
    {
      "cell_type": "code",
      "source": [
        "acc = accuracy_score(Y_test, y_pred)\n",
        "print(\"Accuracy:\", acc*100, \"%\")"
      ],
      "metadata": {
        "colab": {
          "base_uri": "https://localhost:8080/"
        },
        "id": "6zNgsql4vavR",
        "outputId": "c90be407-23ac-45cf-8c51-1e9fdc148f19"
      },
      "execution_count": 44,
      "outputs": [
        {
          "output_type": "stream",
          "name": "stdout",
          "text": [
            "Accuracy: 97.77777777777777 %\n"
          ]
        }
      ]
    },
    {
      "cell_type": "code",
      "source": [
        "matrix = confusion_matrix(Y_test, y_pred)                # It creates the confusion matrix and returns an array\n",
        "cm = ConfusionMatrixDisplay(matrix)                      # It displays the confusion matrix\n",
        "cm.plot()"
      ],
      "metadata": {
        "colab": {
          "base_uri": "https://localhost:8080/",
          "height": 466
        },
        "id": "gnL0MNg0vovN",
        "outputId": "5739b4b7-05b9-4900-e194-0a72cbb9d7ef"
      },
      "execution_count": 48,
      "outputs": [
        {
          "output_type": "execute_result",
          "data": {
            "text/plain": [
              "<sklearn.metrics._plot.confusion_matrix.ConfusionMatrixDisplay at 0x7fb02c4e6440>"
            ]
          },
          "metadata": {},
          "execution_count": 48
        },
        {
          "output_type": "display_data",
          "data": {
            "text/plain": [
              "<Figure size 640x480 with 2 Axes>"
            ],
            "image/png": "[encoded data removed]"
          },
          "metadata": {}
        }
      ]
    },
    {
      "cell_type": "code",
      "source": [
        "rep = classification_report(Y_test, y_pred)\n",
        "print(\"Classification report:\\n\", rep)"
      ],
      "metadata": {
        "colab": {
          "base_uri": "https://localhost:8080/"
        },
        "id": "PGm7ZQ_rwQ8A",
        "outputId": "d3c68807-9d9d-4240-90a9-e573e4e125c0"
      },
      "execution_count": 50,
      "outputs": [
        {
          "output_type": "stream",
          "name": "stdout",
          "text": [
            "Classification report:\n",
            "               precision    recall  f1-score   support\n",
            "\n",
            "           0       0.98      1.00      0.99        52\n",
            "           1       0.91      1.00      0.95        52\n",
            "           2       0.98      0.98      0.98        53\n",
            "           3       1.00      0.98      0.99        50\n",
            "           4       1.00      0.96      0.98        51\n",
            "           5       0.98      1.00      0.99        56\n",
            "           6       1.00      0.98      0.99        62\n",
            "           7       0.96      0.98      0.97        54\n",
            "           8       1.00      0.91      0.95        55\n",
            "           9       0.96      0.98      0.97        55\n",
            "\n",
            "    accuracy                           0.98       540\n",
            "   macro avg       0.98      0.98      0.98       540\n",
            "weighted avg       0.98      0.98      0.98       540\n",
            "\n"
          ]
        }
      ]
    },
    {
      "cell_type": "markdown",
      "source": [
        "## **Explaination**"
      ],
      "metadata": {
        "id": "SBo38CJZjlEX"
      }
    },
    {
      "cell_type": "markdown",
      "source": [
        "This notebook classifies the digits hand written digits. The input data is in the form of images. Each image is of (8, 8) is flattened and a 1D array is created which is later scaled in the range of [0,1]. The data is split in the ratio of 70% training data and 30% test data. The random forest classifier used for training the model, classifying the images and labeling them with correct digit. Though several other models can be used but using random forest algorithm we are getting the accuracy of 97.8%."
      ],
      "metadata": {
        "id": "Ybi8FR9Kjv00"
      }
    }
  ]
}