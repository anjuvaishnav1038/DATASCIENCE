{
 "cells": [
  {
   "cell_type": "code",
   "execution_count": 1,
   "id": "400d3638",
   "metadata": {},
   "outputs": [
    {
     "name": "stdout",
     "output_type": "stream",
     "text": [
      "correlatiom cofficent of data_1 and data_2=-0.032669014915278814\n"
     ]
    }
   ],
   "source": [
    "#using scipy It is preffered to use stats.pearsonr() when we want to compute\n",
    "# correlation for lesser columns\n",
    "import scipy.stats as stats\n",
    "import numpy as np\n",
    "#intialialise random points\n",
    "data_1=np.random.randn(1,20)\n",
    "data_2=np.random.randn(1,20)\n",
    "#the stats.pearsonr() returns 2 values the correlation cofficent\n",
    "#and the p value\n",
    "r,p_value=stats.pearsonr(data_1[0],data_2[0])\n",
    "print(f\"correlatiom cofficent of data_1 and data_2={r}\")"
   ]
  },
  {
   "cell_type": "code",
   "execution_count": 2,
   "id": "aec4400c",
   "metadata": {},
   "outputs": [
    {
     "name": "stdout",
     "output_type": "stream",
     "text": [
      "          Column 1  Column 2  Column 3  Column 4\n",
      "Column 1  1.000000  0.038826  0.128210  0.278874\n",
      "Column 2  0.038826  1.000000 -0.001148  0.103295\n",
      "Column 3  0.128210 -0.001148  1.000000  0.196302\n",
      "Column 4  0.278874  0.103295  0.196302  1.000000\n"
     ]
    }
   ],
   "source": [
    "#using dataframe\n",
    "import numpy as np\n",
    "import pandas as pd\n",
    "# initialise random data points\n",
    "data_1 = np.random.randn(1, 20)\n",
    "data_2 = np.random.randn(1, 20)\n",
    "data_3 = np.random.randn(1, 20)\n",
    "data_4 = np.random.randn(1, 20)\n",
    "data = {\"Column 1\":data_1[0], \n",
    "        \"Column 2\":data_2[0], \n",
    "        \"Column 3\":data_3[0], \n",
    "        \"Column 4\":data_4[0]}\n",
    "#intialize dataframe with all the columns\n",
    "df=pd.DataFrame(data)\n",
    "#.corr() can calculate 'pearson','kendall' ,spearmancorrealations\n",
    "print(df.corr(method='pearson'))\n"
   ]
  },
  {
   "cell_type": "markdown",
   "id": "4fff2f22",
   "metadata": {},
   "source": [
    "how to visualize this using heatmap\n",
    "Now that we have found out these correlation values it would be great if we would be able to visualise the same so that we can interpret the results easily. To do so we will use the Seaborn Library and plot a Heat-map. Every box of this heat-map will be a representation of the correlation coefficient between the corresponding columns in the grid."
   ]
  },
  {
   "cell_type": "code",
   "execution_count": 6,
   "id": "eab1b2b7",
   "metadata": {},
   "outputs": [
    {
     "data": {
      "text/plain": [
       "Text(0.5, 1.0, 'CORRELATION HEATMAP')"
      ]
     },
     "execution_count": 6,
     "metadata": {},
     "output_type": "execute_result"
    },
    {
     "data": {
      "image/png": "[encoded data removed]",
      "text/plain": [
       "<Figure size 504x504 with 2 Axes>"
      ]
     },
     "metadata": {
      "needs_background": "light"
     },
     "output_type": "display_data"
    }
   ],
   "source": [
    "import seaborn as sns\n",
    "import matplotlib.pyplot as plt\n",
    "fig=plt.figure(figsize=(7,7))\n",
    "sns.heatmap(df.corr(method='pearson'),annot=True,cmap=\"Blues\")\n",
    "plt.title(\"CORRELATION HEATMAP\")"
   ]
  },
  {
   "cell_type": "markdown",
   "id": "6815d7f9",
   "metadata": {},
   "source": [
    "The diagonal of the heat map will always show value = 1 as it gives the correlation of the column with itself which should be 1 considering the columns are same. So now based on these values, we can find out the columns that are highly correlated and make a decision about the features to be selected.\n",
    "\n",
    "But the heat-map doesn’t just tell us about the correlation between the independent and target variable it also shows if there is any significant correlation between the independent variables themselves, this is called multi-collinearity which is also an important part for feature selection during Multiple Linear Regression and we will discuss in the upcoming blogs. Till then you can read about this topic here."
   ]
  },
  {
   "cell_type": "code",
   "execution_count": null,
   "id": "0a29432f",
   "metadata": {},
   "outputs": [],
   "source": []
  }
 ],
 "metadata": {
  "kernelspec": {
   "display_name": "Python 3 (ipykernel)",
   "language": "python",
   "name": "python3"
  },
  "language_info": {
   "codemirror_mode": {
    "name": "ipython",
    "version": 3
   },
   "file_extension": ".py",
   "mimetype": "text/x-python",
   "name": "python",
   "nbconvert_exporter": "python",
   "pygments_lexer": "ipython3",
   "version": "3.9.12"
  }
 },
 "nbformat": 4,
 "nbformat_minor": 5
}
