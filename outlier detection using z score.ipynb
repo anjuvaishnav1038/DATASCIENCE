{
 "cells": [
  {
   "cell_type": "markdown",
   "id": "98db390b",
   "metadata": {},
   "source": [
    "Though Z-Score is a highly efficient way of detecting and removing outliers, we cannot use it with every data type. When we said that, we mean that it only works with the data which is completely or close to normally distributed, which in turn stimulates that this method is not for skewed data, either left skew or right skew. For the other data, we have something known as Inter quartile range (IQR) method"
   ]
  },
  {
   "cell_type": "markdown",
   "id": "69020680",
   "metadata": {},
   "source": [
    "Z score is an important concept in statistics. Z score is also called standard score. This score helps to understand if a data value is greater or smaller than mean and how far away it is from the mean. More specifically, Z score tells how many standard deviations away a data point is from the mean."
   ]
  },
  {
   "cell_type": "markdown",
   "id": "e1da7633",
   "metadata": {},
   "source": [
    "Formula for Z score = (Observation — Mean)/Standard Deviation\n",
    "z = (X — μ) / σ"
   ]
  },
  {
   "cell_type": "markdown",
   "id": "e226eaa5",
   "metadata": {},
   "source": [
    "If the z score of a data point is more than 19, it indicates that the data point is quite different from the other data points. Such a data point can be an outlier"
   ]
  },
  {
   "cell_type": "code",
   "execution_count": 2,
   "id": "a41409b0",
   "metadata": {},
   "outputs": [],
   "source": [
    "dataset= [11,10,12,14,12,15,14,13,15,102,12,14,17,13,15,10,15,12,10,14,13,15,10,19,107,10,13,12,14,12,108,12,11,14,]"
   ]
  },
  {
   "cell_type": "code",
   "execution_count": 3,
   "id": "7a875181",
   "metadata": {},
   "outputs": [],
   "source": [
    "import numpy as np"
   ]
  },
  {
   "cell_type": "code",
   "execution_count": 4,
   "id": "266df159",
   "metadata": {},
   "outputs": [
    {
     "name": "stdout",
     "output_type": "stream",
     "text": [
      "mean of the dataset is 21.176470588235293\n",
      "std. deviation is 26.372301186968762\n"
     ]
    }
   ],
   "source": [
    "mean = np.mean(dataset)\n",
    "std = np.std(dataset)\n",
    "print('mean of the dataset is', mean)\n",
    "print('std. deviation is', std)"
   ]
  },
  {
   "cell_type": "markdown",
   "id": "db16e891",
   "metadata": {},
   "source": [
    "calculation of the z score"
   ]
  },
  {
   "cell_type": "code",
   "execution_count": 7,
   "id": "50467c12",
   "metadata": {},
   "outputs": [],
   "source": [
    "outliers=[]\n",
    "def detect_outliers(data):\n",
    "    threshold=3 #3rd standard deviation\n",
    "    mean=np.mean(data)\n",
    "    std=np.std(data)\n",
    "    for i in data:\n",
    "        z_score=(i-mean)/std\n",
    "        if np.abs(z_score)>threshold:\n",
    "            outliers.append(i)\n",
    "    return outliers"
   ]
  },
  {
   "cell_type": "code",
   "execution_count": 8,
   "id": "703cb618",
   "metadata": {},
   "outputs": [
    {
     "data": {
      "text/plain": [
       "[102, 107, 108]"
      ]
     },
     "execution_count": 8,
     "metadata": {},
     "output_type": "execute_result"
    }
   ],
   "source": [
    "outlier_pt=detect_outliers(dataset)\n",
    "outlier_pt"
   ]
  },
  {
   "cell_type": "code",
   "execution_count": null,
   "id": "d67b8ae5",
   "metadata": {},
   "outputs": [],
   "source": []
  }
 ],
 "metadata": {
  "kernelspec": {
   "display_name": "Python 3 (ipykernel)",
   "language": "python",
   "name": "python3"
  },
  "language_info": {
   "codemirror_mode": {
    "name": "ipython",
    "version": 3
   },
   "file_extension": ".py",
   "mimetype": "text/x-python",
   "name": "python",
   "nbconvert_exporter": "python",
   "pygments_lexer": "ipython3",
   "version": "3.9.12"
  }
 },
 "nbformat": 4,
 "nbformat_minor": 5
}
